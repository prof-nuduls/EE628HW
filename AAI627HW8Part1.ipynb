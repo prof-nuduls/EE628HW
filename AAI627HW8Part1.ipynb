{
  "nbformat": 4,
  "nbformat_minor": 0,
  "metadata": {
    "colab": {
      "provenance": [],
      "mount_file_id": "1vONsXT1oEL0gJQXnWiquOJgfvDwU0qGT",
      "authorship_tag": "ABX9TyPSY56Is9JdHanbJmEmHgQl",
      "include_colab_link": true
    },
    "kernelspec": {
      "name": "python3",
      "display_name": "Python 3"
    },
    "language_info": {
      "name": "python"
    }
  },
  "cells": [
    {
      "cell_type": "markdown",
      "metadata": {
        "id": "view-in-github",
        "colab_type": "text"
      },
      "source": [
        "<a href=\"https://colab.research.google.com/github/prof-nuduls/EE628HW/blob/main/AAI627HW8Part1.ipynb\" target=\"_parent\"><img src=\"https://colab.research.google.com/assets/colab-badge.svg\" alt=\"Open In Colab\"/></a>"
      ]
    },
    {
      "cell_type": "code",
      "source": [],
      "metadata": {
        "id": "t09G9m_w7zQI"
      },
      "execution_count": null,
      "outputs": []
    },
    {
      "cell_type": "code",
      "source": [
        "!apt-get install openjdk-8-jdk-headless -qq > /dev/null\n",
        "\n",
        "!apt-get install openjdk-8-jdk-headless -qq > /dev/null"
      ],
      "metadata": {
        "id": "Zm23hZdCxD1O"
      },
      "execution_count": 1,
      "outputs": []
    },
    {
      "cell_type": "code",
      "execution_count": 2,
      "metadata": {
        "id": "Carga7QAuAj1"
      },
      "outputs": [],
      "source": [
        "!wget -q https://archive.apache.org/dist/spark/spark-3.5.1/spark-3.5.1-bin-hadoop3.tgz"
      ]
    },
    {
      "cell_type": "code",
      "source": [
        "!tar xf spark-3.5.1-bin-hadoop3.tgz"
      ],
      "metadata": {
        "id": "EXBvlpj6u_AW"
      },
      "execution_count": 3,
      "outputs": []
    },
    {
      "cell_type": "code",
      "source": [
        "!pip install -q findspark\n",
        "\n",
        "import os\n",
        "os.environ[\"JAVA_HOME\"] = \"/usr/lib/jvm/java-8-openjdk-amd64\""
      ],
      "metadata": {
        "id": "hhSIymyrvSSn"
      },
      "execution_count": 4,
      "outputs": []
    },
    {
      "cell_type": "code",
      "source": [
        "os.environ[\"SPARK_HOME\"] = \"/content/spark-3.5.1-bin-hadoop3\""
      ],
      "metadata": {
        "id": "KvT-QGqqxGwm"
      },
      "execution_count": 5,
      "outputs": []
    },
    {
      "cell_type": "code",
      "source": [
        "import findspark\n",
        "\n",
        "findspark.init()\n",
        "\n",
        "from pyspark.sql import SparkSession\n",
        "\n",
        "spark = SparkSession.builder.master(\"local[*]\").getOrCreate()\n",
        "\n",
        "from google.colab import files"
      ],
      "metadata": {
        "id": "xRItvDEkvcRx"
      },
      "execution_count": 57,
      "outputs": []
    },
    {
      "cell_type": "code",
      "source": [
        "from pyspark.ml.evaluation import RegressionEvaluator\n",
        "from pyspark.ml.recommendation import ALS"
      ],
      "metadata": {
        "id": "fN4n_gJwumAJ"
      },
      "execution_count": 76,
      "outputs": []
    },
    {
      "cell_type": "code",
      "source": [
        "training = spark.read.csv(\"trainItem.data\", header = False)\n",
        "training.show(5)"
      ],
      "metadata": {
        "colab": {
          "base_uri": "https://localhost:8080/"
        },
        "id": "AC4_ip73vVHF",
        "outputId": "50cf4445-3793-4ef4-ac96-571a0217a489"
      },
      "execution_count": 77,
      "outputs": [
        {
          "output_type": "stream",
          "name": "stdout",
          "text": [
            "+------+------+---+\n",
            "|   _c0|   _c1|_c2|\n",
            "+------+------+---+\n",
            "|199808|248969| 90|\n",
            "|199808|  2663| 90|\n",
            "|199808| 28341| 90|\n",
            "|199808| 42563| 90|\n",
            "|199808| 59092| 90|\n",
            "+------+------+---+\n",
            "only showing top 5 rows\n",
            "\n"
          ]
        }
      ]
    },
    {
      "cell_type": "code",
      "source": [
        "training = training.withColumnRenamed(\"_c0\", \"userID\").withColumnRenamed(\"_c1\", \"itemID\").withColumnRenamed(\"_c2\", \"rating\")\n",
        "training.show(5)"
      ],
      "metadata": {
        "colab": {
          "base_uri": "https://localhost:8080/"
        },
        "id": "74ySJKRNzitN",
        "outputId": "50cd926f-216e-4eb4-a513-0f7bcf807eda"
      },
      "execution_count": 78,
      "outputs": [
        {
          "output_type": "stream",
          "name": "stdout",
          "text": [
            "+------+------+------+\n",
            "|userID|itemID|rating|\n",
            "+------+------+------+\n",
            "|199808|248969|    90|\n",
            "|199808|  2663|    90|\n",
            "|199808| 28341|    90|\n",
            "|199808| 42563|    90|\n",
            "|199808| 59092|    90|\n",
            "+------+------+------+\n",
            "only showing top 5 rows\n",
            "\n"
          ]
        }
      ]
    },
    {
      "cell_type": "code",
      "source": [
        "from pyspark.sql.types import IntegerType\n",
        "training = training.withColumn(\"userID\", training[\"userID\"].cast(IntegerType()))\n",
        "training = training.withColumn(\"itemID\", training[\"itemID\"].cast(IntegerType()))\n",
        "training = training.withColumn(\"rating\", training[\"rating\"].cast('float'))\n",
        "training.show(3)"
      ],
      "metadata": {
        "colab": {
          "base_uri": "https://localhost:8080/"
        },
        "id": "fM1fds2f4DR7",
        "outputId": "fc65b2a7-7e2f-4feb-aeb9-078282c63c3c"
      },
      "execution_count": 79,
      "outputs": [
        {
          "output_type": "stream",
          "name": "stdout",
          "text": [
            "+------+------+------+\n",
            "|userID|itemID|rating|\n",
            "+------+------+------+\n",
            "|199808|248969|  90.0|\n",
            "|199808|  2663|  90.0|\n",
            "|199808| 28341|  90.0|\n",
            "+------+------+------+\n",
            "only showing top 3 rows\n",
            "\n"
          ]
        }
      ]
    },
    {
      "cell_type": "code",
      "source": [
        "# Create ALS model\n",
        "als = ALS(\n",
        "    maxIter=20,\n",
        "    rank = 20,\n",
        "    regParam=0.01,\n",
        "    userCol=\"userID\",\n",
        "    itemCol=\"itemID\",\n",
        "    ratingCol=\"rating\",\n",
        "    nonnegative = True,\n",
        "    implicitPrefs = False,\n",
        "    coldStartStrategy=\"drop\"\n",
        ")"
      ],
      "metadata": {
        "id": "644u9bio4FAv"
      },
      "execution_count": 80,
      "outputs": []
    },
    {
      "cell_type": "code",
      "source": [
        "model = als.fit(training)"
      ],
      "metadata": {
        "id": "jrKuVjK-4Gt8"
      },
      "execution_count": 81,
      "outputs": []
    },
    {
      "cell_type": "code",
      "source": [
        "testing = spark.read.csv(\"testItem.data\", header = False)"
      ],
      "metadata": {
        "id": "emz4B6XO4N9g"
      },
      "execution_count": 82,
      "outputs": []
    },
    {
      "cell_type": "code",
      "source": [
        "testing = testing.withColumnRenamed(\"_c0\", \"userID\").withColumnRenamed(\"_c1\", \"itemID\").withColumnRenamed(\"_c2\", \"rating\")\n",
        "testing.show(5)"
      ],
      "metadata": {
        "id": "Jgj3ZpQA4P-y",
        "colab": {
          "base_uri": "https://localhost:8080/"
        },
        "outputId": "0e5e4c55-55a6-42d5-b321-a9a01e46aa3e"
      },
      "execution_count": 83,
      "outputs": [
        {
          "output_type": "stream",
          "name": "stdout",
          "text": [
            "+------+------+------+\n",
            "|userID|itemID|rating|\n",
            "+------+------+------+\n",
            "|199810|208019|     0|\n",
            "|199810| 74139|     0|\n",
            "|199810|  9903|     0|\n",
            "|199810|242681|     0|\n",
            "|199810| 18515|     0|\n",
            "+------+------+------+\n",
            "only showing top 5 rows\n",
            "\n"
          ]
        }
      ]
    },
    {
      "cell_type": "code",
      "source": [
        "testing = testing.withColumn(\"userID\", testing[\"userID\"].cast(IntegerType()))\n",
        "testing = testing.withColumn(\"itemID\", testing[\"itemID\"].cast(IntegerType()))\n",
        "testing = testing.withColumn(\"rating\", testing[\"rating\"].cast('float'))\n",
        "testing.show(3)\n"
      ],
      "metadata": {
        "id": "pVg7Tkpk4nel",
        "colab": {
          "base_uri": "https://localhost:8080/"
        },
        "outputId": "9e16c21a-c5c6-451d-fb76-23f0b20d8c0b"
      },
      "execution_count": 84,
      "outputs": [
        {
          "output_type": "stream",
          "name": "stdout",
          "text": [
            "+------+------+------+\n",
            "|userID|itemID|rating|\n",
            "+------+------+------+\n",
            "|199810|208019|   0.0|\n",
            "|199810| 74139|   0.0|\n",
            "|199810|  9903|   0.0|\n",
            "+------+------+------+\n",
            "only showing top 3 rows\n",
            "\n"
          ]
        }
      ]
    },
    {
      "cell_type": "code",
      "source": [
        "testing.count()"
      ],
      "metadata": {
        "id": "wTZxTXeOKwFf",
        "colab": {
          "base_uri": "https://localhost:8080/"
        },
        "outputId": "bb70de6c-b4e2-4ab7-c265-9141558b3bd4"
      },
      "execution_count": 85,
      "outputs": [
        {
          "output_type": "execute_result",
          "data": {
            "text/plain": [
              "120000"
            ]
          },
          "metadata": {},
          "execution_count": 85
        }
      ]
    },
    {
      "cell_type": "code",
      "source": [
        "predictions = model.transform(testing)\n",
        "predictions.show(5)\n"
      ],
      "metadata": {
        "id": "mVrL7ZwI6lJz",
        "colab": {
          "base_uri": "https://localhost:8080/"
        },
        "outputId": "62d8b4b7-a133-43c0-baa3-f56b8881610c"
      },
      "execution_count": 86,
      "outputs": [
        {
          "output_type": "stream",
          "name": "stdout",
          "text": [
            "+------+------+------+----------+\n",
            "|userID|itemID|rating|prediction|\n",
            "+------+------+------+----------+\n",
            "|233686|     1|   0.0|  40.29612|\n",
            "|215400|     3|   0.0| 48.374557|\n",
            "|224379|     5|   0.0| 90.574135|\n",
            "|200179|    13|   0.0| 63.886276|\n",
            "|199859|    17|   0.0| 60.136387|\n",
            "+------+------+------+----------+\n",
            "only showing top 5 rows\n",
            "\n"
          ]
        }
      ]
    },
    {
      "cell_type": "markdown",
      "source": [],
      "metadata": {
        "id": "6To5uMi06rZN"
      }
    },
    {
      "cell_type": "code",
      "source": [
        "predictions.count()"
      ],
      "metadata": {
        "id": "lK_-sLaV6md5",
        "colab": {
          "base_uri": "https://localhost:8080/"
        },
        "outputId": "cd4cd4b0-4821-4349-99eb-5a3d0c8d3dc5"
      },
      "execution_count": 87,
      "outputs": [
        {
          "output_type": "execute_result",
          "data": {
            "text/plain": [
              "119974"
            ]
          },
          "metadata": {},
          "execution_count": 87
        }
      ]
    },
    {
      "cell_type": "code",
      "source": [
        "from pyspark.sql.functions import lit\n",
        "\n",
        "missing_combinations = testing.join(predictions, [\"userID\", \"itemID\"], \"left_anti\")\n",
        "missing_combinations = missing_combinations.withColumn(\"prediction\", lit(0))\n",
        "\n",
        "missing_combinations.show()"
      ],
      "metadata": {
        "id": "wdicCdA8Lb3E",
        "colab": {
          "base_uri": "https://localhost:8080/"
        },
        "outputId": "8a7a7f32-a882-46b3-88b1-3120a91f64b1"
      },
      "execution_count": 88,
      "outputs": [
        {
          "output_type": "stream",
          "name": "stdout",
          "text": [
            "+------+------+------+----------+\n",
            "|userID|itemID|rating|prediction|\n",
            "+------+------+------+----------+\n",
            "|233600|244986|   0.0|         0|\n",
            "|240579| 12238|   0.0|         0|\n",
            "|201764| 99699|   0.0|         0|\n",
            "|245355| 19630|   0.0|         0|\n",
            "|244261| 17777|   0.0|         0|\n",
            "|217814|282196|   0.0|         0|\n",
            "|209427|182926|   0.0|         0|\n",
            "|239834| 75679|   0.0|         0|\n",
            "|242951| 83528|   0.0|         0|\n",
            "|234512|179776|   0.0|         0|\n",
            "|245335| 79059|   0.0|         0|\n",
            "|228550|204660|   0.0|         0|\n",
            "|236927|198558|   0.0|         0|\n",
            "|244356|237110|   0.0|         0|\n",
            "|234911|175541|   0.0|         0|\n",
            "|205578| 40556|   0.0|         0|\n",
            "|239626|182926|   0.0|         0|\n",
            "|240299|128682|   0.0|         0|\n",
            "|227794|235968|   0.0|         0|\n",
            "|211542|236983|   0.0|         0|\n",
            "+------+------+------+----------+\n",
            "only showing top 20 rows\n",
            "\n"
          ]
        }
      ]
    },
    {
      "cell_type": "code",
      "source": [
        "final_predictions = predictions.union(missing_combinations)\n",
        "final_predictions.show(5)"
      ],
      "metadata": {
        "id": "nCVH_NfqNakv",
        "colab": {
          "base_uri": "https://localhost:8080/"
        },
        "outputId": "c25d03f1-549c-43b4-fdce-5fa765e79746"
      },
      "execution_count": 89,
      "outputs": [
        {
          "output_type": "stream",
          "name": "stdout",
          "text": [
            "+------+------+------+----------+\n",
            "|userID|itemID|rating|prediction|\n",
            "+------+------+------+----------+\n",
            "|233686|     1|   0.0|  40.29612|\n",
            "|215400|     3|   0.0| 48.374557|\n",
            "|224379|     5|   0.0| 90.574135|\n",
            "|200179|    13|   0.0| 63.886276|\n",
            "|199859|    17|   0.0| 60.136387|\n",
            "+------+------+------+----------+\n",
            "only showing top 5 rows\n",
            "\n"
          ]
        }
      ]
    },
    {
      "cell_type": "code",
      "source": [
        "from pyspark.sql import Window,functions\n",
        "from pyspark.sql.functions import col, rank, when, row_number,concat\n",
        "\n",
        "# Define a window partitioned by userID, ordered by prediction in ascending order\n",
        "window_spec = Window.partitionBy(\"userID\").orderBy(\"prediction\")\n",
        "\n",
        "# Assign suggestion values based on the bottom three predictions within each user ID group\n",
        "final_predictions = final_predictions.withColumn(\"suggestion\", when(row_number().over(window_spec) > 3, 1).otherwise(0))\n",
        "\n",
        "final_predictions.show()\n",
        "\n",
        "selected_predictions = final_predictions.select(\"userID\", \"itemID\", \"suggestion\")\n",
        "selected_predictions.show()"
      ],
      "metadata": {
        "id": "Zrgb2KAPOv6A",
        "colab": {
          "base_uri": "https://localhost:8080/"
        },
        "outputId": "a8ae439b-d9e0-4b98-d37c-06bd1d3be573"
      },
      "execution_count": 90,
      "outputs": [
        {
          "output_type": "stream",
          "name": "stdout",
          "text": [
            "+------+------+------+----------+----------+\n",
            "|userID|itemID|rating|prediction|suggestion|\n",
            "+------+------+------+----------+----------+\n",
            "|199810|242681|   0.0| 37.038292|         0|\n",
            "|199810| 18515|   0.0| 51.204964|         0|\n",
            "|199810| 74139|   0.0| 57.724483|         0|\n",
            "|199810|208019|   0.0|   58.7052|         1|\n",
            "|199810|  9903|   0.0|  77.97268|         1|\n",
            "|199810|105760|   0.0|  146.2458|         1|\n",
            "|199812|276940|   0.0| 67.834206|         0|\n",
            "|199812|130023|   0.0|  75.72296|         0|\n",
            "|199812| 29189|   0.0|  80.84672|         0|\n",
            "|199812|223706|   0.0|  94.32001|         1|\n",
            "|199812|142408|   0.0|  107.6084|         1|\n",
            "|199812|211361|   0.0| 145.04396|         1|\n",
            "|199813|111874|   0.0| 33.612457|         0|\n",
            "|199813| 20968|   0.0|  48.51801|         0|\n",
            "|199813|188441|   0.0|  55.37331|         0|\n",
            "|199813|184173|   0.0|  82.19245|         1|\n",
            "|199813| 79640|   0.0|112.806915|         1|\n",
            "|199813| 21571|   0.0| 324.22968|         1|\n",
            "|199814|122429|   0.0| 14.542861|         0|\n",
            "|199814|262193|   0.0| 25.808004|         0|\n",
            "+------+------+------+----------+----------+\n",
            "only showing top 20 rows\n",
            "\n",
            "+------+------+----------+\n",
            "|userID|itemID|suggestion|\n",
            "+------+------+----------+\n",
            "|199810|242681|         0|\n",
            "|199810| 18515|         0|\n",
            "|199810| 74139|         0|\n",
            "|199810|208019|         1|\n",
            "|199810|  9903|         1|\n",
            "|199810|105760|         1|\n",
            "|199812|276940|         0|\n",
            "|199812|130023|         0|\n",
            "|199812| 29189|         0|\n",
            "|199812|223706|         1|\n",
            "|199812|142408|         1|\n",
            "|199812|211361|         1|\n",
            "|199813|111874|         0|\n",
            "|199813| 20968|         0|\n",
            "|199813|188441|         0|\n",
            "|199813|184173|         1|\n",
            "|199813| 79640|         1|\n",
            "|199813| 21571|         1|\n",
            "|199814|122429|         0|\n",
            "|199814|262193|         0|\n",
            "+------+------+----------+\n",
            "only showing top 20 rows\n",
            "\n"
          ]
        }
      ]
    },
    {
      "cell_type": "code",
      "source": [
        "# ensure equal number of 0 and 1s\n",
        "num_zeros = final_predictions.filter(functions.col(\"suggestion\") == 0).count()\n",
        "\n",
        "print(\"Number of 0s in 'suggestion' column:\", num_zeros)"
      ],
      "metadata": {
        "colab": {
          "base_uri": "https://localhost:8080/"
        },
        "id": "kgpNPQVS3bSL",
        "outputId": "ee96cc25-1e01-4c6c-ee7c-64e7a7e1cf40"
      },
      "execution_count": 91,
      "outputs": [
        {
          "output_type": "stream",
          "name": "stdout",
          "text": [
            "Number of 0s in 'suggestion' column: 60000\n"
          ]
        }
      ]
    },
    {
      "cell_type": "code",
      "source": [
        "# Concatenate 'userID' and 'itemID' columns to create 'UserID_TrackID' column\n",
        "selected_predictions = selected_predictions.withColumn('UserID_TrackID', concat(col('userID').cast('string'),lit('_'), col('itemID').cast('string')))\n",
        "\n",
        "# Select 'UserID_TrackID' and 'suggestion' columns\n",
        "df = selected_predictions.select('UserID_TrackID', 'suggestion')\n",
        "\n",
        "# Rename columns to match the desired output\n",
        "df = df.withColumnRenamed('UserID_TrackID', 'TrackID').withColumnRenamed('suggestion', 'Predictor')\n",
        "df.show()\n",
        "\n"
      ],
      "metadata": {
        "id": "XJwA_N7mQEfZ",
        "colab": {
          "base_uri": "https://localhost:8080/"
        },
        "outputId": "771dff4d-e854-497e-ed9a-adb2e5a9f1e3"
      },
      "execution_count": 92,
      "outputs": [
        {
          "output_type": "stream",
          "name": "stdout",
          "text": [
            "+-------------+---------+\n",
            "|      TrackID|Predictor|\n",
            "+-------------+---------+\n",
            "|199810_242681|        0|\n",
            "| 199810_18515|        0|\n",
            "| 199810_74139|        0|\n",
            "|199810_208019|        1|\n",
            "|  199810_9903|        1|\n",
            "|199810_105760|        1|\n",
            "|199812_276940|        0|\n",
            "|199812_130023|        0|\n",
            "| 199812_29189|        0|\n",
            "|199812_223706|        1|\n",
            "|199812_142408|        1|\n",
            "|199812_211361|        1|\n",
            "|199813_111874|        0|\n",
            "| 199813_20968|        0|\n",
            "|199813_188441|        0|\n",
            "|199813_184173|        1|\n",
            "| 199813_79640|        1|\n",
            "| 199813_21571|        1|\n",
            "|199814_122429|        0|\n",
            "|199814_262193|        0|\n",
            "+-------------+---------+\n",
            "only showing top 20 rows\n",
            "\n"
          ]
        }
      ]
    },
    {
      "cell_type": "code",
      "source": [
        "df.coalesce(1).write.mode('overwrite').csv(\"output\")\n",
        "df.toPandas().to_csv('output1.csv',index=False)"
      ],
      "metadata": {
        "id": "BZ8SP31r6oGj"
      },
      "execution_count": 93,
      "outputs": []
    },
    {
      "cell_type": "code",
      "source": [],
      "metadata": {
        "id": "m9IJZxjm71W_"
      },
      "execution_count": 93,
      "outputs": []
    },
    {
      "cell_type": "code",
      "source": [],
      "metadata": {
        "id": "KMVkDX_n72ml"
      },
      "execution_count": 93,
      "outputs": []
    }
  ]
}