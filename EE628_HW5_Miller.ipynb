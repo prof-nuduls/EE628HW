{
  "nbformat": 4,
  "nbformat_minor": 0,
  "metadata": {
    "colab": {
      "provenance": [],
      "authorship_tag": "ABX9TyM+t6FUvevSIbJV0oghzZeT",
      "include_colab_link": true
    },
    "kernelspec": {
      "name": "python3",
      "display_name": "Python 3"
    },
    "language_info": {
      "name": "python"
    }
  },
  "cells": [
    {
      "cell_type": "markdown",
      "metadata": {
        "id": "view-in-github",
        "colab_type": "text"
      },
      "source": [
        "<a href=\"https://colab.research.google.com/github/prof-nuduls/EE628HW/blob/main/EE628_HW5_Miller.ipynb\" target=\"_parent\"><img src=\"https://colab.research.google.com/assets/colab-badge.svg\" alt=\"Open In Colab\"/></a>"
      ]
    },
    {
      "cell_type": "code",
      "source": [
        "from keras.datasets import cifar10\n",
        "from keras.layers import ZeroPadding2D,Flatten,BatchNormalization,Activation,MaxPooling2D,Conv2D,Dense,Add\n",
        "from keras.initializers import glorot_uniform\n",
        "from keras.models import Model\n",
        "from keras.utils import to_categorical\n",
        "from keras import Input\n",
        "from keras.optimizers import Adam\n",
        "from keras.preprocessing.image import ImageDataGenerator\n",
        "import matplotlib.pyplot as plt\n",
        "import numpy as np\n",
        "(x_train, y_train), (x_test, y_test) = cifar10.load_data()\n",
        "x_train.shape"
      ],
      "metadata": {
        "id": "a7HPnZOWKr2p",
        "colab": {
          "base_uri": "https://localhost:8080/"
        },
        "outputId": "a387a8d3-285b-4e4e-bb33-9eade84ec89b"
      },
      "execution_count": null,
      "outputs": [
        {
          "output_type": "execute_result",
          "data": {
            "text/plain": [
              "(50000, 32, 32, 3)"
            ]
          },
          "metadata": {},
          "execution_count": 1
        }
      ]
    },
    {
      "cell_type": "code",
      "source": [
        "plt.imshow(x_train[0], cmap='gray')\n",
        "plt.title('Class '+ str(y_train[0]))\n"
      ],
      "metadata": {
        "colab": {
          "base_uri": "https://localhost:8080/",
          "height": 469
        },
        "id": "bOulmOMweTwM",
        "outputId": "dbd5710c-b147-40a1-b71b-3cb16efc12fe"
      },
      "execution_count": null,
      "outputs": [
        {
          "output_type": "execute_result",
          "data": {
            "text/plain": [
              "Text(0.5, 1.0, 'Class [6]')"
            ]
          },
          "metadata": {},
          "execution_count": 2
        },
        {
          "output_type": "display_data",
          "data": {
            "text/plain": [
              "<Figure size 640x480 with 1 Axes>"
            ],
            "image/png": "[encoded data removed]"
          },
          "metadata": {}
        }
      ]
    },
    {
      "cell_type": "code",
      "source": [],
      "metadata": {
        "id": "fUtGquFplNp1"
      },
      "execution_count": null,
      "outputs": []
    },
    {
      "cell_type": "code",
      "source": [
        "x_train = x_train.reshape(x_train.shape[0], 32,32, 3)\n",
        "x_test = x_test.reshape(x_test.shape[0],32,32, 3)\n",
        "x_train = x_train.astype('float32')\n",
        "x_test = x_test.astype('float32')\n",
        "\n",
        "x_train/=255\n",
        "x_test/=255"
      ],
      "metadata": {
        "id": "IG76v2pzepxw"
      },
      "execution_count": null,
      "outputs": []
    },
    {
      "cell_type": "code",
      "source": [
        "number_of_classes = 10\n",
        "\n",
        "y_train = to_categorical(y_train, number_of_classes)\n",
        "y_test = to_categorical(y_test, number_of_classes)\n",
        "\n",
        "y_train[0], y_train[0]"
      ],
      "metadata": {
        "colab": {
          "base_uri": "https://localhost:8080/"
        },
        "id": "tfH1bExxeyAE",
        "outputId": "d86bdb68-3392-44a2-aee9-73754df0d16d"
      },
      "execution_count": null,
      "outputs": [
        {
          "output_type": "execute_result",
          "data": {
            "text/plain": [
              "(array([0., 0., 0., 0., 0., 0., 1., 0., 0., 0.], dtype=float32),\n",
              " array([0., 0., 0., 0., 0., 0., 1., 0., 0., 0.], dtype=float32))"
            ]
          },
          "metadata": {},
          "execution_count": 4
        }
      ]
    },
    {
      "cell_type": "markdown",
      "source": [],
      "metadata": {
        "id": "SQoFiCXWMR8z"
      }
    },
    {
      "cell_type": "code",
      "source": [
        "input_shape = x_train[0].shape\n",
        "input_shape"
      ],
      "metadata": {
        "colab": {
          "base_uri": "https://localhost:8080/"
        },
        "id": "jjo8QOdFLI9s",
        "outputId": "3f483dea-8536-40bd-f62c-d9a6718011b0"
      },
      "execution_count": null,
      "outputs": [
        {
          "output_type": "execute_result",
          "data": {
            "text/plain": [
              "(32, 32, 3)"
            ]
          },
          "metadata": {},
          "execution_count": 5
        }
      ]
    },
    {
      "cell_type": "code",
      "execution_count": null,
      "metadata": {
        "id": "fLNGoCJFJ4o6",
        "colab": {
          "base_uri": "https://localhost:8080/"
        },
        "outputId": "d546334e-745a-45a9-9a01-7064bf007d72"
      },
      "outputs": [
        {
          "output_type": "stream",
          "name": "stdout",
          "text": [
            "(None, 16, 16, 64)\n"
          ]
        },
        {
          "output_type": "execute_result",
          "data": {
            "text/plain": [
              "TensorShape([None, 7, 7, 64])"
            ]
          },
          "metadata": {},
          "execution_count": 6
        }
      ],
      "source": [
        "# Define the input as a tensor with shape input_shape\n",
        "X_input = Input(shape=input_shape)\n",
        "\n",
        "\n",
        "# Zero-Padding\n",
        "X = ZeroPadding2D((3, 3))(X_input)\n",
        "X.shape\n",
        "# Stage 1\n",
        "X = Conv2D(64, (7, 7), strides = (2, 2), name = 'conv1', kernel_initializer = glorot_uniform(seed=0))(X)\n",
        "X = BatchNormalization(axis = 3,name = 'bn_conv1')(X)\n",
        "X = Activation('relu')(X)\n",
        "print(X.shape)\n",
        "X = MaxPooling2D((3, 3), strides=(2, 2))(X)\n",
        "X.shape\n"
      ]
    },
    {
      "cell_type": "code",
      "source": [
        "X.shape"
      ],
      "metadata": {
        "colab": {
          "base_uri": "https://localhost:8080/"
        },
        "id": "NDtnyhq4KLhC",
        "outputId": "47aa698f-ae68-4800-f8fe-7b08083bf805"
      },
      "execution_count": null,
      "outputs": [
        {
          "output_type": "execute_result",
          "data": {
            "text/plain": [
              "TensorShape([None, 7, 7, 64])"
            ]
          },
          "metadata": {},
          "execution_count": 7
        }
      ]
    },
    {
      "cell_type": "code",
      "source": [
        "X_shortcut = X\n",
        "\n",
        "# Begin Stage 2\n",
        "X = Conv2D(64, (3, 3), strides = (1, 1), name = 'conv2', padding = 'same',kernel_initializer = glorot_uniform(seed=0))(X)\n",
        "X = BatchNormalization(axis = 3, name = 'bn_conv2')(X)\n",
        "X = Activation('relu')(X)\n",
        "print(X.shape)\n",
        "\n",
        "X = Conv2D(64, (3, 3), strides = (1, 1), name = 'conv3', padding = 'same',kernel_initializer = glorot_uniform(seed=0))(X)\n",
        "X = BatchNormalization(axis = 3, name = 'bn_conv3')(X)\n",
        "print(X.shape)\n",
        "\n",
        "X = Add()([X_shortcut, X])\n",
        "X = Activation('relu')(X)"
      ],
      "metadata": {
        "colab": {
          "base_uri": "https://localhost:8080/"
        },
        "id": "ObHdZyBBPDRY",
        "outputId": "37b574fb-0378-4d48-f211-dfaef2a1fdc3"
      },
      "execution_count": null,
      "outputs": [
        {
          "output_type": "stream",
          "name": "stdout",
          "text": [
            "(None, 7, 7, 64)\n",
            "(None, 7, 7, 64)\n"
          ]
        }
      ]
    },
    {
      "cell_type": "code",
      "source": [
        "# output layer\n",
        "X = Flatten()(X)\n",
        "X = Dense(number_of_classes, activation='softmax', name='fc' + str(number_of_classes), kernel_initializer = glorot_uniform(seed=0))(X)"
      ],
      "metadata": {
        "id": "REhUo7wcKL89"
      },
      "execution_count": null,
      "outputs": []
    },
    {
      "cell_type": "code",
      "source": [
        "# Create model\n",
        "model = Model(inputs = X_input, outputs = X, name='ResNet50')"
      ],
      "metadata": {
        "id": "5sQnsJu4Ko3K"
      },
      "execution_count": null,
      "outputs": []
    },
    {
      "cell_type": "code",
      "source": [
        "model.compile(loss='categorical_crossentropy', optimizer=Adam(), metrics=['accuracy'])"
      ],
      "metadata": {
        "id": "85qPwTAtR0v9"
      },
      "execution_count": null,
      "outputs": []
    },
    {
      "cell_type": "code",
      "source": [
        "gen = ImageDataGenerator(rotation_range=8, width_shift_range=0.08, shear_range=0.3,\n",
        " height_shift_range=0.08, zoom_range=0.08)\n",
        "\n",
        "test_gen = ImageDataGenerator()"
      ],
      "metadata": {
        "id": "8zfKQkAhSSkj"
      },
      "execution_count": null,
      "outputs": []
    },
    {
      "cell_type": "code",
      "source": [
        "train_generator = gen.flow(x_train, y_train, batch_size=64)\n",
        "test_generator = test_gen.flow(x_test, y_test, batch_size=64)\n",
        "\n",
        "#model.fit(x_train, x_train, batch_size=128, epochs=1, validation_data=(x_test, y_test))\n",
        "\n",
        "model.fit(train_generator, steps_per_epoch=50000//64, epochs=5,\n",
        "validation_data=test_generator, validation_steps=10000//64)"
      ],
      "metadata": {
        "colab": {
          "base_uri": "https://localhost:8080/"
        },
        "id": "6a5k5W2LSd13",
        "outputId": "c98efcb6-72e7-4ce5-c050-cec32bca098c"
      },
      "execution_count": null,
      "outputs": [
        {
          "output_type": "stream",
          "name": "stdout",
          "text": [
            "Epoch 1/5\n",
            "781/781 [==============================] - 128s 161ms/step - loss: 1.5645 - accuracy: 0.4586 - val_loss: 1.9137 - val_accuracy: 0.4319\n",
            "Epoch 2/5\n",
            "781/781 [==============================] - 110s 141ms/step - loss: 1.1972 - accuracy: 0.5804 - val_loss: 1.3166 - val_accuracy: 0.5423\n",
            "Epoch 3/5\n",
            "781/781 [==============================] - 115s 147ms/step - loss: 1.0466 - accuracy: 0.6341 - val_loss: 1.4818 - val_accuracy: 0.5254\n",
            "Epoch 4/5\n",
            "781/781 [==============================] - 108s 138ms/step - loss: 0.9612 - accuracy: 0.6616 - val_loss: 1.1552 - val_accuracy: 0.6095\n",
            "Epoch 5/5\n",
            "781/781 [==============================] - 110s 140ms/step - loss: 0.8981 - accuracy: 0.6854 - val_loss: 1.3827 - val_accuracy: 0.5782\n"
          ]
        },
        {
          "output_type": "execute_result",
          "data": {
            "text/plain": [
              "<keras.src.callbacks.History at 0x793008479cf0>"
            ]
          },
          "metadata": {},
          "execution_count": 13
        }
      ]
    },
    {
      "cell_type": "code",
      "source": [
        "score = model.evaluate(x_test, y_test)\n",
        "print()\n",
        "print('Test accuracy: ', score[1])"
      ],
      "metadata": {
        "colab": {
          "base_uri": "https://localhost:8080/"
        },
        "id": "d5TYb3LvSfpM",
        "outputId": "56793687-5c42-4e38-ce6b-76358e722c5a"
      },
      "execution_count": null,
      "outputs": [
        {
          "output_type": "stream",
          "name": "stdout",
          "text": [
            "313/313 [==============================] - 5s 17ms/step - loss: 1.3821 - accuracy: 0.5783\n",
            "\n",
            "Test accuracy:  0.5782999992370605\n"
          ]
        }
      ]
    },
    {
      "cell_type": "code",
      "source": [],
      "metadata": {
        "id": "zmc_1qmKSkAB"
      },
      "execution_count": null,
      "outputs": []
    }
  ]
}