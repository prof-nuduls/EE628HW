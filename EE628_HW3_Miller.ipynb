{
  "nbformat": 4,
  "nbformat_minor": 0,
  "metadata": {
    "colab": {
      "provenance": [],
      "authorship_tag": "ABX9TyN6hsRyL2eEURTY/fy0CGM2",
      "include_colab_link": true
    },
    "kernelspec": {
      "name": "python3",
      "display_name": "Python 3"
    },
    "language_info": {
      "name": "python"
    }
  },
  "cells": [
    {
      "cell_type": "markdown",
      "metadata": {
        "id": "view-in-github",
        "colab_type": "text"
      },
      "source": [
        "<a href=\"https://colab.research.google.com/github/prof-nuduls/EE628HW/blob/main/EE628_HW3_Miller.ipynb\" target=\"_parent\"><img src=\"https://colab.research.google.com/assets/colab-badge.svg\" alt=\"Open In Colab\"/></a>"
      ]
    },
    {
      "cell_type": "code",
      "execution_count": 22,
      "metadata": {
        "id": "ViFciXLcBJWH"
      },
      "outputs": [],
      "source": [
        "from keras.datasets import imdb\n",
        "(train_data, train_labels),(test_data, test_labels) = imdb.load_data( num_words=10000)"
      ]
    },
    {
      "cell_type": "code",
      "source": [
        "import numpy as np\n",
        "def vectorize_sequences(sequences, dimension=10000):\n",
        "    results = np.zeros((len(sequences), dimension))\n",
        "    for i, sequence in enumerate(sequences):\n",
        "        results[i, sequence] = 1.\n",
        "    return results"
      ],
      "metadata": {
        "id": "UJFbDW-xe5kX"
      },
      "execution_count": 23,
      "outputs": []
    },
    {
      "cell_type": "code",
      "source": [
        "x_train = vectorize_sequences(train_data)\n",
        "x_test = vectorize_sequences(test_data)\n",
        "\n",
        "y_train = np.asarray(train_labels).astype('float32')\n",
        "y_test = np.asarray(test_labels).astype('float32')\n"
      ],
      "metadata": {
        "id": "UEGvIZJ_BPGa"
      },
      "execution_count": 24,
      "outputs": []
    },
    {
      "cell_type": "code",
      "source": [
        "from keras import models\n",
        "from keras import layers\n",
        "model = models.Sequential()\n",
        "model.add(layers.Dense(16, activation='relu', input_shape=(10000,)))\n",
        "#model.add(layers.Dense(16, activation='relu'))\n",
        "#model.add(layers.Dense(16, activation='relu'))\n",
        "model.add(layers.Dense(1, activation='sigmoid'))\n"
      ],
      "metadata": {
        "id": "4X9uKsJye8CU"
      },
      "execution_count": 25,
      "outputs": []
    },
    {
      "cell_type": "code",
      "source": [
        "from keras import losses\n",
        "from keras import metrics\n",
        "from keras import optimizers\n",
        "\n",
        "model.compile(optimizer=optimizers.RMSprop(lr=0.001),\n",
        "              loss=losses.mse,\n",
        "              metrics=[metrics.binary_accuracy])"
      ],
      "metadata": {
        "colab": {
          "base_uri": "https://localhost:8080/"
        },
        "id": "pRC-ub2ke9_B",
        "outputId": "cba3ca19-3c70-4f63-9523-4775d6f3eb31"
      },
      "execution_count": 26,
      "outputs": [
        {
          "output_type": "stream",
          "name": "stderr",
          "text": [
            "WARNING:absl:`lr` is deprecated in Keras optimizer, please use `learning_rate` or use the legacy optimizer, e.g.,tf.keras.optimizers.legacy.RMSprop.\n"
          ]
        }
      ]
    },
    {
      "cell_type": "code",
      "source": [
        "x_val = x_train[:10000]\n",
        "partial_x_train = x_train[10000:]\n",
        "y_val = y_train[:10000]\n",
        "partial_y_train = y_train[10000:]\n"
      ],
      "metadata": {
        "id": "_71equDafbGZ"
      },
      "execution_count": 27,
      "outputs": []
    },
    {
      "cell_type": "code",
      "source": [
        "model.compile(optimizer='rmsprop',\n",
        "              loss='mse',\n",
        "              metrics=['acc'])\n",
        "history = model.fit(partial_x_train,\n",
        "                    partial_y_train,\n",
        "                    epochs=20,\n",
        "                    batch_size=512,\n",
        "                    validation_data=(x_val, y_val))\n"
      ],
      "metadata": {
        "colab": {
          "base_uri": "https://localhost:8080/"
        },
        "id": "RMfJ7r1Wfe7l",
        "outputId": "f5841f4c-7858-4d9e-d4b7-2bc55ee590d6"
      },
      "execution_count": 28,
      "outputs": [
        {
          "output_type": "stream",
          "name": "stdout",
          "text": [
            "Epoch 1/20\n",
            "30/30 [==============================] - 5s 109ms/step - loss: 0.1708 - acc: 0.7797 - val_loss: 0.1367 - val_acc: 0.8253\n",
            "Epoch 2/20\n",
            "30/30 [==============================] - 1s 47ms/step - loss: 0.1025 - acc: 0.8922 - val_loss: 0.1029 - val_acc: 0.8788\n",
            "Epoch 3/20\n",
            "30/30 [==============================] - 2s 55ms/step - loss: 0.0806 - acc: 0.9139 - val_loss: 0.1040 - val_acc: 0.8630\n",
            "Epoch 4/20\n",
            "30/30 [==============================] - 1s 46ms/step - loss: 0.0692 - acc: 0.9260 - val_loss: 0.0878 - val_acc: 0.8904\n",
            "Epoch 5/20\n",
            "30/30 [==============================] - 1s 44ms/step - loss: 0.0610 - acc: 0.9345 - val_loss: 0.0855 - val_acc: 0.8900\n",
            "Epoch 6/20\n",
            "30/30 [==============================] - 1s 41ms/step - loss: 0.0545 - acc: 0.9457 - val_loss: 0.0843 - val_acc: 0.8874\n",
            "Epoch 7/20\n",
            "30/30 [==============================] - 1s 46ms/step - loss: 0.0502 - acc: 0.9485 - val_loss: 0.0842 - val_acc: 0.8857\n",
            "Epoch 8/20\n",
            "30/30 [==============================] - 2s 65ms/step - loss: 0.0458 - acc: 0.9547 - val_loss: 0.0919 - val_acc: 0.8769\n",
            "Epoch 9/20\n",
            "30/30 [==============================] - 2s 60ms/step - loss: 0.0425 - acc: 0.9590 - val_loss: 0.0839 - val_acc: 0.8856\n",
            "Epoch 10/20\n",
            "30/30 [==============================] - 2s 56ms/step - loss: 0.0396 - acc: 0.9644 - val_loss: 0.0839 - val_acc: 0.8838\n",
            "Epoch 11/20\n",
            "30/30 [==============================] - 1s 44ms/step - loss: 0.0369 - acc: 0.9657 - val_loss: 0.0843 - val_acc: 0.8833\n",
            "Epoch 12/20\n",
            "30/30 [==============================] - 1s 46ms/step - loss: 0.0346 - acc: 0.9686 - val_loss: 0.0910 - val_acc: 0.8774\n",
            "Epoch 13/20\n",
            "30/30 [==============================] - 1s 47ms/step - loss: 0.0324 - acc: 0.9715 - val_loss: 0.0853 - val_acc: 0.8825\n",
            "Epoch 14/20\n",
            "30/30 [==============================] - 1s 45ms/step - loss: 0.0304 - acc: 0.9751 - val_loss: 0.0875 - val_acc: 0.8812\n",
            "Epoch 15/20\n",
            "30/30 [==============================] - 2s 55ms/step - loss: 0.0289 - acc: 0.9765 - val_loss: 0.0884 - val_acc: 0.8765\n",
            "Epoch 16/20\n",
            "30/30 [==============================] - 1s 39ms/step - loss: 0.0271 - acc: 0.9788 - val_loss: 0.0874 - val_acc: 0.8791\n",
            "Epoch 17/20\n",
            "30/30 [==============================] - 2s 70ms/step - loss: 0.0262 - acc: 0.9785 - val_loss: 0.0880 - val_acc: 0.8783\n",
            "Epoch 18/20\n",
            "30/30 [==============================] - 2s 66ms/step - loss: 0.0238 - acc: 0.9828 - val_loss: 0.0891 - val_acc: 0.8784\n",
            "Epoch 19/20\n",
            "30/30 [==============================] - 1s 38ms/step - loss: 0.0232 - acc: 0.9829 - val_loss: 0.0902 - val_acc: 0.8761\n",
            "Epoch 20/20\n",
            "30/30 [==============================] - 1s 40ms/step - loss: 0.0219 - acc: 0.9847 - val_loss: 0.0950 - val_acc: 0.8729\n"
          ]
        }
      ]
    },
    {
      "cell_type": "code",
      "source": [
        "history_dict = history.history\n",
        "history_dict.keys()"
      ],
      "metadata": {
        "colab": {
          "base_uri": "https://localhost:8080/"
        },
        "id": "2H6kdfHlfjw5",
        "outputId": "48ef0f38-3477-475c-d536-275eb498684d"
      },
      "execution_count": 29,
      "outputs": [
        {
          "output_type": "execute_result",
          "data": {
            "text/plain": [
              "dict_keys(['loss', 'acc', 'val_loss', 'val_acc'])"
            ]
          },
          "metadata": {},
          "execution_count": 29
        }
      ]
    },
    {
      "cell_type": "code",
      "source": [
        "import matplotlib.pyplot as plt\n",
        "history_dict = history.history\n",
        "loss_values = history_dict['loss']\n",
        "val_loss_values = history_dict['val_loss']\n",
        "acc_values = history_dict['acc']\n",
        "epochs = range(1, len(acc_values) + 1)\n",
        "plt.plot(epochs, loss_values, 'bo', label='Training loss')\n",
        "plt.plot(epochs, val_loss_values, 'b', label='Validation loss')\n",
        "plt.title('Training and validation loss')\n",
        "plt.xlabel('Epochs')\n",
        "plt.ylabel('Loss')\n",
        "plt.legend()\n",
        "plt.show()"
      ],
      "metadata": {
        "colab": {
          "base_uri": "https://localhost:8080/",
          "height": 472
        },
        "id": "3p0x2dzwfmTp",
        "outputId": "a7ab28fe-0a25-4263-911b-b4bcbf6db882"
      },
      "execution_count": 30,
      "outputs": [
        {
          "output_type": "display_data",
          "data": {
            "text/plain": [
              "<Figure size 640x480 with 1 Axes>"
            ],
            "image/png": "[encoded data removed]"
          },
          "metadata": {}
        }
      ]
    },
    {
      "cell_type": "code",
      "source": [
        "from keras.datasets import fashion_mnist\n",
        "(train_data, train_labels),(test_data, test_labels) = fashion_mnist.load_data()\n"
      ],
      "metadata": {
        "id": "Ri3ce5bjfn3C"
      },
      "execution_count": 31,
      "outputs": []
    },
    {
      "cell_type": "code",
      "source": [
        "train_data.shape"
      ],
      "metadata": {
        "id": "BrQEKG9MQgan",
        "colab": {
          "base_uri": "https://localhost:8080/"
        },
        "outputId": "a31aa8f0-6cd2-4020-b8f5-9452f17c89d6"
      },
      "execution_count": 32,
      "outputs": [
        {
          "output_type": "execute_result",
          "data": {
            "text/plain": [
              "(60000, 28, 28)"
            ]
          },
          "metadata": {},
          "execution_count": 32
        }
      ]
    },
    {
      "cell_type": "code",
      "source": [
        "test_data.shape"
      ],
      "metadata": {
        "colab": {
          "base_uri": "https://localhost:8080/"
        },
        "id": "6cb7ErjtQ2VF",
        "outputId": "a149ce03-420a-4cf9-bd25-e5542cbbd45b"
      },
      "execution_count": 33,
      "outputs": [
        {
          "output_type": "execute_result",
          "data": {
            "text/plain": [
              "(10000, 28, 28)"
            ]
          },
          "metadata": {},
          "execution_count": 33
        }
      ]
    },
    {
      "cell_type": "code",
      "source": [
        "from keras import models\n",
        "from keras import layers\n",
        "from keras import regularizers\n",
        "network = models.Sequential()\n",
        "network.add(layers.Dense(512, kernel_regularizer=regularizers.l2(0.5), activation='relu', input_shape=(28 * 28,)))\n",
        "network.add(layers.Dense(10, activation='softmax'))"
      ],
      "metadata": {
        "id": "hc0CXIAZWd5R"
      },
      "execution_count": 34,
      "outputs": []
    },
    {
      "cell_type": "code",
      "source": [
        "from keras import losses\n",
        "from keras import metrics\n",
        "from keras import optimizers\n",
        "\n",
        "network.compile(optimizer=optimizers.RMSprop(lr=0.001),\n",
        "              loss=losses.binary_crossentropy,\n",
        "              metrics=[metrics.binary_accuracy])"
      ],
      "metadata": {
        "colab": {
          "base_uri": "https://localhost:8080/"
        },
        "id": "fM_aGjdOWgfq",
        "outputId": "23902fa1-d136-4664-9241-dab165bb7f60"
      },
      "execution_count": 35,
      "outputs": [
        {
          "output_type": "stream",
          "name": "stderr",
          "text": [
            "WARNING:absl:`lr` is deprecated in Keras optimizer, please use `learning_rate` or use the legacy optimizer, e.g.,tf.keras.optimizers.legacy.RMSprop.\n"
          ]
        }
      ]
    },
    {
      "cell_type": "code",
      "source": [
        "from keras.utils import to_categorical\n",
        "x_train = train_data.reshape((train_data.shape[0], 28 * 28)).astype('float32')\n",
        "x_val = test_data.reshape((test_data.shape[0], 28 * 28)).astype('float32')\n",
        "y_train = to_categorical(train_labels)\n",
        "y_val = to_categorical(test_labels)"
      ],
      "metadata": {
        "id": "yV-I15PXW8cX"
      },
      "execution_count": 36,
      "outputs": []
    },
    {
      "cell_type": "code",
      "source": [
        "network.compile(optimizer='rmsprop',\n",
        "              loss='binary_crossentropy',\n",
        "              metrics=['acc'])\n",
        "\n",
        "history = network.fit(x_train,\n",
        "                    y_train,\n",
        "                    epochs=20,\n",
        "                    batch_size=512,\n",
        "                    validation_data=(x_val, y_val))"
      ],
      "metadata": {
        "colab": {
          "base_uri": "https://localhost:8080/"
        },
        "id": "2kfyAyqXWwUH",
        "outputId": "0a561fc2-ec68-4d91-d6e2-f1c7eb53c305"
      },
      "execution_count": 37,
      "outputs": [
        {
          "output_type": "stream",
          "name": "stdout",
          "text": [
            "Epoch 1/20\n",
            "118/118 [==============================] - 4s 29ms/step - loss: 99.9379 - acc: 0.5792 - val_loss: 19.6515 - val_acc: 0.4128\n",
            "Epoch 2/20\n",
            "118/118 [==============================] - 3s 26ms/step - loss: 12.1059 - acc: 0.5926 - val_loss: 7.4674 - val_acc: 0.7137\n",
            "Epoch 3/20\n",
            "118/118 [==============================] - 4s 37ms/step - loss: 9.0843 - acc: 0.6001 - val_loss: 7.4356 - val_acc: 0.6329\n",
            "Epoch 4/20\n",
            "118/118 [==============================] - 3s 27ms/step - loss: 8.8594 - acc: 0.6074 - val_loss: 4.4449 - val_acc: 0.6741\n",
            "Epoch 5/20\n",
            "118/118 [==============================] - 3s 27ms/step - loss: 8.1197 - acc: 0.6108 - val_loss: 7.6084 - val_acc: 0.5620\n",
            "Epoch 6/20\n",
            "118/118 [==============================] - 3s 29ms/step - loss: 7.5311 - acc: 0.6198 - val_loss: 7.7014 - val_acc: 0.5472\n",
            "Epoch 7/20\n",
            "118/118 [==============================] - 4s 33ms/step - loss: 7.0545 - acc: 0.6098 - val_loss: 8.6005 - val_acc: 0.6471\n",
            "Epoch 8/20\n",
            "118/118 [==============================] - 3s 27ms/step - loss: 6.5321 - acc: 0.6212 - val_loss: 8.5498 - val_acc: 0.5610\n",
            "Epoch 9/20\n",
            "118/118 [==============================] - 3s 26ms/step - loss: 6.4701 - acc: 0.6195 - val_loss: 7.0309 - val_acc: 0.6429\n",
            "Epoch 10/20\n",
            "118/118 [==============================] - 4s 34ms/step - loss: 6.1887 - acc: 0.6313 - val_loss: 4.7870 - val_acc: 0.7137\n",
            "Epoch 11/20\n",
            "118/118 [==============================] - 5s 46ms/step - loss: 5.7272 - acc: 0.6260 - val_loss: 4.5625 - val_acc: 0.6592\n",
            "Epoch 12/20\n",
            "118/118 [==============================] - 3s 26ms/step - loss: 5.4043 - acc: 0.6327 - val_loss: 3.4726 - val_acc: 0.7528\n",
            "Epoch 13/20\n",
            "118/118 [==============================] - 4s 34ms/step - loss: 5.3513 - acc: 0.6355 - val_loss: 5.1060 - val_acc: 0.6863\n",
            "Epoch 14/20\n",
            "118/118 [==============================] - 4s 33ms/step - loss: 5.3934 - acc: 0.6340 - val_loss: 5.4529 - val_acc: 0.6927\n",
            "Epoch 15/20\n",
            "118/118 [==============================] - 3s 27ms/step - loss: 5.3642 - acc: 0.6401 - val_loss: 6.3831 - val_acc: 0.6422\n",
            "Epoch 16/20\n",
            "118/118 [==============================] - 3s 27ms/step - loss: 5.5041 - acc: 0.6416 - val_loss: 4.4543 - val_acc: 0.5679\n",
            "Epoch 17/20\n",
            "118/118 [==============================] - 4s 32ms/step - loss: 5.1919 - acc: 0.6467 - val_loss: 3.4484 - val_acc: 0.6443\n",
            "Epoch 18/20\n",
            "118/118 [==============================] - 4s 30ms/step - loss: 4.6354 - acc: 0.6502 - val_loss: 3.0282 - val_acc: 0.7046\n",
            "Epoch 19/20\n",
            "118/118 [==============================] - 3s 26ms/step - loss: 5.2601 - acc: 0.6505 - val_loss: 4.8219 - val_acc: 0.6288\n",
            "Epoch 20/20\n",
            "118/118 [==============================] - 3s 27ms/step - loss: 4.5896 - acc: 0.6520 - val_loss: 5.4572 - val_acc: 0.5691\n"
          ]
        }
      ]
    },
    {
      "cell_type": "code",
      "source": [
        "history_dict = history.history\n",
        "history_dict.keys()"
      ],
      "metadata": {
        "colab": {
          "base_uri": "https://localhost:8080/"
        },
        "id": "fw_h4f66XKIB",
        "outputId": "326a2a4f-5214-4522-8061-adbe63a26835"
      },
      "execution_count": 38,
      "outputs": [
        {
          "output_type": "execute_result",
          "data": {
            "text/plain": [
              "dict_keys(['loss', 'acc', 'val_loss', 'val_acc'])"
            ]
          },
          "metadata": {},
          "execution_count": 38
        }
      ]
    },
    {
      "cell_type": "code",
      "source": [
        "import matplotlib.pyplot as plt\n",
        "history_dict = history.history\n",
        "loss_values = history_dict['loss']\n",
        "val_loss_values = history_dict['val_loss']\n",
        "acc_values = history_dict['acc']\n",
        "epochs = range(1, len(acc_values) + 1)\n",
        "plt.plot(epochs, loss_values, 'bo', label='Training loss')\n",
        "plt.plot(epochs, val_loss_values, 'b', label='Validation loss')\n",
        "plt.title('Training and validation loss')\n",
        "plt.xlabel('Epochs')\n",
        "plt.ylabel('Loss')\n",
        "plt.legend()\n",
        "plt.show()"
      ],
      "metadata": {
        "colab": {
          "base_uri": "https://localhost:8080/",
          "height": 472
        },
        "id": "yINQFwKCbH8H",
        "outputId": "3a173cde-9b31-4846-cfbd-f26ccf78ce50"
      },
      "execution_count": 39,
      "outputs": [
        {
          "output_type": "display_data",
          "data": {
            "text/plain": [
              "<Figure size 640x480 with 1 Axes>"
            ],
            "image/png": "[encoded data removed]"
          },
          "metadata": {}
        }
      ]
    },
    {
      "cell_type": "code",
      "source": [
        "from keras import models\n",
        "from keras import layers\n",
        "from keras import regularizers\n",
        "network = models.Sequential()\n",
        "network.add(layers.Dense(512, activation='relu', input_shape=(28 * 28,)))\n",
        "#network.add(layers.Dropout(0.5))\n",
        "network.add(layers.Dense(10, activation='softmax'))"
      ],
      "metadata": {
        "id": "wlclphecbKNl"
      },
      "execution_count": 40,
      "outputs": []
    },
    {
      "cell_type": "code",
      "source": [
        "network.compile(optimizer='rmsprop',\n",
        "              loss='binary_crossentropy',\n",
        "              metrics=['acc'])\n",
        "\n",
        "history = network.fit(x_train,\n",
        "                    y_train,\n",
        "                    epochs=20,\n",
        "                    batch_size=512,\n",
        "                    validation_data=(x_val, y_val))"
      ],
      "metadata": {
        "colab": {
          "base_uri": "https://localhost:8080/"
        },
        "id": "31YXhS2ejazY",
        "outputId": "2b30f969-38bf-491f-d4bf-a653471a8aff"
      },
      "execution_count": 41,
      "outputs": [
        {
          "output_type": "stream",
          "name": "stdout",
          "text": [
            "Epoch 1/20\n",
            "118/118 [==============================] - 5s 39ms/step - loss: 6.7900 - acc: 0.6578 - val_loss: 2.1308 - val_acc: 0.7327\n",
            "Epoch 2/20\n",
            "118/118 [==============================] - 3s 26ms/step - loss: 1.1245 - acc: 0.7600 - val_loss: 1.4727 - val_acc: 0.6424\n",
            "Epoch 3/20\n",
            "118/118 [==============================] - 3s 26ms/step - loss: 0.4437 - acc: 0.7894 - val_loss: 0.3021 - val_acc: 0.7719\n",
            "Epoch 4/20\n",
            "118/118 [==============================] - 3s 26ms/step - loss: 0.1331 - acc: 0.8156 - val_loss: 0.2130 - val_acc: 0.7807\n",
            "Epoch 5/20\n",
            "118/118 [==============================] - 4s 37ms/step - loss: 0.0938 - acc: 0.8386 - val_loss: 0.1308 - val_acc: 0.8129\n",
            "Epoch 6/20\n",
            "118/118 [==============================] - 3s 27ms/step - loss: 0.0822 - acc: 0.8505 - val_loss: 0.1138 - val_acc: 0.8262\n",
            "Epoch 7/20\n",
            "118/118 [==============================] - 3s 27ms/step - loss: 0.0749 - acc: 0.8611 - val_loss: 0.1292 - val_acc: 0.8169\n",
            "Epoch 8/20\n",
            "118/118 [==============================] - 3s 27ms/step - loss: 0.0710 - acc: 0.8664 - val_loss: 0.1028 - val_acc: 0.8331\n",
            "Epoch 9/20\n",
            "118/118 [==============================] - 4s 38ms/step - loss: 0.0680 - acc: 0.8740 - val_loss: 0.0968 - val_acc: 0.8132\n",
            "Epoch 10/20\n",
            "118/118 [==============================] - 3s 27ms/step - loss: 0.0641 - acc: 0.8783 - val_loss: 0.1311 - val_acc: 0.8125\n",
            "Epoch 11/20\n",
            "118/118 [==============================] - 3s 27ms/step - loss: 0.0642 - acc: 0.8808 - val_loss: 0.0863 - val_acc: 0.8558\n",
            "Epoch 12/20\n",
            "118/118 [==============================] - 3s 27ms/step - loss: 0.0619 - acc: 0.8830 - val_loss: 0.0936 - val_acc: 0.8386\n",
            "Epoch 13/20\n",
            "118/118 [==============================] - 4s 34ms/step - loss: 0.0584 - acc: 0.8874 - val_loss: 0.0866 - val_acc: 0.8502\n",
            "Epoch 14/20\n",
            "118/118 [==============================] - 3s 26ms/step - loss: 0.0592 - acc: 0.8868 - val_loss: 0.0861 - val_acc: 0.8551\n",
            "Epoch 15/20\n",
            "118/118 [==============================] - 3s 26ms/step - loss: 0.0575 - acc: 0.8898 - val_loss: 0.1055 - val_acc: 0.8522\n",
            "Epoch 16/20\n",
            "118/118 [==============================] - 3s 30ms/step - loss: 0.0560 - acc: 0.8918 - val_loss: 0.0875 - val_acc: 0.8624\n",
            "Epoch 17/20\n",
            "118/118 [==============================] - 4s 32ms/step - loss: 0.0550 - acc: 0.8944 - val_loss: 0.0941 - val_acc: 0.8328\n",
            "Epoch 18/20\n",
            "118/118 [==============================] - 3s 26ms/step - loss: 0.0543 - acc: 0.8951 - val_loss: 0.1002 - val_acc: 0.8409\n",
            "Epoch 19/20\n",
            "118/118 [==============================] - 3s 26ms/step - loss: 0.0535 - acc: 0.8959 - val_loss: 0.1013 - val_acc: 0.8509\n",
            "Epoch 20/20\n",
            "118/118 [==============================] - 4s 32ms/step - loss: 0.0530 - acc: 0.8980 - val_loss: 0.1053 - val_acc: 0.8448\n"
          ]
        }
      ]
    },
    {
      "cell_type": "code",
      "source": [
        "import matplotlib.pyplot as plt\n",
        "history_dict = history.history\n",
        "loss_values = history_dict['loss']\n",
        "val_loss_values = history_dict['val_loss']\n",
        "acc_values = history_dict['acc']\n",
        "epochs = range(1, len(acc_values) + 1)\n",
        "plt.plot(epochs, loss_values, 'bo', label='Training loss')\n",
        "plt.plot(epochs, val_loss_values, 'b', label='Validation loss')\n",
        "plt.title('Training and validation loss')\n",
        "plt.xlabel('Epochs')\n",
        "plt.ylabel('Loss')\n",
        "plt.legend()\n",
        "plt.show()"
      ],
      "metadata": {
        "colab": {
          "base_uri": "https://localhost:8080/",
          "height": 472
        },
        "id": "6LeztgljjdsY",
        "outputId": "450a8136-90aa-412c-f124-7ad7974d3ebf"
      },
      "execution_count": 42,
      "outputs": [
        {
          "output_type": "display_data",
          "data": {
            "text/plain": [
              "<Figure size 640x480 with 1 Axes>"
            ],
            "image/png": "[encoded data removed]"
          },
          "metadata": {}
        }
      ]
    },
    {
      "cell_type": "code",
      "source": [
        "\n"
      ],
      "metadata": {
        "id": "kRl367MCjfmQ"
      },
      "execution_count": 42,
      "outputs": []
    },
    {
      "cell_type": "code",
      "source": [],
      "metadata": {
        "id": "3SPWWMsufoYh"
      },
      "execution_count": 42,
      "outputs": []
    }
  ]
}