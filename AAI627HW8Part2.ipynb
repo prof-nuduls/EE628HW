{
  "nbformat": 4,
  "nbformat_minor": 0,
  "metadata": {
    "colab": {
      "provenance": [],
      "mount_file_id": "1vONsXT1oEL0gJQXnWiquOJgfvDwU0qGT",
      "authorship_tag": "ABX9TyNdz+XuVuqJgBUXYtg054wv",
      "include_colab_link": true
    },
    "kernelspec": {
      "name": "python3",
      "display_name": "Python 3"
    },
    "language_info": {
      "name": "python"
    }
  },
  "cells": [
    {
      "cell_type": "markdown",
      "metadata": {
        "id": "view-in-github",
        "colab_type": "text"
      },
      "source": [
        "<a href=\"https://colab.research.google.com/github/prof-nuduls/EE628HW/blob/main/AAI627HW8Part2.ipynb\" target=\"_parent\"><img src=\"https://colab.research.google.com/assets/colab-badge.svg\" alt=\"Open In Colab\"/></a>"
      ]
    },
    {
      "cell_type": "code",
      "source": [],
      "metadata": {
        "id": "t09G9m_w7zQI"
      },
      "execution_count": null,
      "outputs": []
    },
    {
      "cell_type": "code",
      "source": [
        "!apt-get install openjdk-8-jdk-headless -qq > /dev/null\n",
        "\n",
        "!apt-get install openjdk-8-jdk-headless -qq > /dev/null"
      ],
      "metadata": {
        "id": "Zm23hZdCxD1O"
      },
      "execution_count": 1,
      "outputs": []
    },
    {
      "cell_type": "code",
      "execution_count": 2,
      "metadata": {
        "id": "Carga7QAuAj1"
      },
      "outputs": [],
      "source": [
        "!wget -q https://archive.apache.org/dist/spark/spark-3.5.1/spark-3.5.1-bin-hadoop3.tgz"
      ]
    },
    {
      "cell_type": "code",
      "source": [
        "!tar xf spark-3.5.1-bin-hadoop3.tgz"
      ],
      "metadata": {
        "id": "EXBvlpj6u_AW"
      },
      "execution_count": 3,
      "outputs": []
    },
    {
      "cell_type": "code",
      "source": [
        "!pip install -q findspark\n",
        "\n",
        "import os\n",
        "os.environ[\"JAVA_HOME\"] = \"/usr/lib/jvm/java-8-openjdk-amd64\""
      ],
      "metadata": {
        "id": "hhSIymyrvSSn"
      },
      "execution_count": 4,
      "outputs": []
    },
    {
      "cell_type": "code",
      "source": [
        "os.environ[\"SPARK_HOME\"] = \"/content/spark-3.5.1-bin-hadoop3\""
      ],
      "metadata": {
        "id": "KvT-QGqqxGwm"
      },
      "execution_count": 5,
      "outputs": []
    },
    {
      "cell_type": "code",
      "source": [
        "import findspark\n",
        "\n",
        "findspark.init()\n",
        "\n",
        "from pyspark.sql import SparkSession\n",
        "\n",
        "spark = SparkSession.builder.master(\"local[*]\").getOrCreate()\n",
        "\n",
        "from google.colab import files"
      ],
      "metadata": {
        "id": "xRItvDEkvcRx"
      },
      "execution_count": 6,
      "outputs": []
    },
    {
      "cell_type": "code",
      "source": [
        "from pyspark.ml.evaluation import RegressionEvaluator\n",
        "from pyspark.ml.recommendation import ALS"
      ],
      "metadata": {
        "id": "fN4n_gJwumAJ"
      },
      "execution_count": 18,
      "outputs": []
    },
    {
      "cell_type": "code",
      "source": [
        "training = spark.read.csv(\"re_u.data\")\n",
        "training.show(5)"
      ],
      "metadata": {
        "id": "AC4_ip73vVHF",
        "colab": {
          "base_uri": "https://localhost:8080/"
        },
        "outputId": "b1845fc7-6b29-4b62-c6c2-890a566281b7"
      },
      "execution_count": 19,
      "outputs": [
        {
          "output_type": "stream",
          "name": "stdout",
          "text": [
            "+---+---+---+\n",
            "|_c0|_c1|_c2|\n",
            "+---+---+---+\n",
            "|196|242|  3|\n",
            "|186|302|  3|\n",
            "| 22|377|  1|\n",
            "|244| 51|  2|\n",
            "|166|346|  1|\n",
            "+---+---+---+\n",
            "only showing top 5 rows\n",
            "\n"
          ]
        }
      ]
    },
    {
      "cell_type": "code",
      "source": [
        "training = training.withColumnRenamed(\"_c0\", \"item1\").withColumnRenamed(\"_c1\", \"item2\").withColumnRenamed(\"_c2\", \"target\")\n",
        "training.show(5)"
      ],
      "metadata": {
        "colab": {
          "base_uri": "https://localhost:8080/"
        },
        "id": "u0imH4ydi4fh",
        "outputId": "5a3ba63b-36da-4918-9f13-2aed26b30bd6"
      },
      "execution_count": 20,
      "outputs": [
        {
          "output_type": "stream",
          "name": "stdout",
          "text": [
            "+-----+-----+------+\n",
            "|item1|item2|target|\n",
            "+-----+-----+------+\n",
            "|  196|  242|     3|\n",
            "|  186|  302|     3|\n",
            "|   22|  377|     1|\n",
            "|  244|   51|     2|\n",
            "|  166|  346|     1|\n",
            "+-----+-----+------+\n",
            "only showing top 5 rows\n",
            "\n"
          ]
        }
      ]
    },
    {
      "cell_type": "code",
      "source": [
        "from pyspark.sql.types import IntegerType\n",
        "training = training.withColumn(\"item1\", training[\"item1\"].cast(IntegerType()))\n",
        "training = training.withColumn(\"item2\", training[\"item2\"].cast(IntegerType()))\n",
        "training = training.withColumn(\"target\", training[\"target\"].cast(IntegerType()))\n",
        "training.show(3)"
      ],
      "metadata": {
        "id": "fM1fds2f4DR7",
        "colab": {
          "base_uri": "https://localhost:8080/"
        },
        "outputId": "6e1474a7-092c-40a6-df2b-ea96e77b16e6"
      },
      "execution_count": 21,
      "outputs": [
        {
          "output_type": "stream",
          "name": "stdout",
          "text": [
            "+-----+-----+------+\n",
            "|item1|item2|target|\n",
            "+-----+-----+------+\n",
            "|  196|  242|     3|\n",
            "|  186|  302|     3|\n",
            "|   22|  377|     1|\n",
            "+-----+-----+------+\n",
            "only showing top 3 rows\n",
            "\n"
          ]
        }
      ]
    },
    {
      "cell_type": "code",
      "source": [
        "rank = [5,7,9,10,20]\n",
        "mse = []\n",
        "for ranks in rank:\n",
        "  # Create ALS model\n",
        "  als = ALS(\n",
        "      maxIter=20,\n",
        "      rank = ranks,\n",
        "      regParam=0.01,\n",
        "      userCol=\"item1\",\n",
        "      itemCol=\"item2\",\n",
        "      ratingCol=\"target\",\n",
        "      nonnegative = True,\n",
        "      implicitPrefs = False,\n",
        "      coldStartStrategy=\"drop\"\n",
        "  )\n",
        "  model = als.fit(training)\n",
        "\n",
        "  # Evaluate the model by computing the RMSE on the test data\n",
        "  predictions = model.transform(training)\n",
        "  evaluator = RegressionEvaluator(metricName=\"mse\", labelCol=\"target\",\n",
        "                                  predictionCol=\"prediction\")\n",
        "  mse = evaluator.evaluate(predictions)\n",
        "  print(\"mean-square error = \" + str(mse))"
      ],
      "metadata": {
        "id": "644u9bio4FAv",
        "colab": {
          "base_uri": "https://localhost:8080/"
        },
        "outputId": "35f9bb17-0b32-4064-dc3c-d6ab297b2513"
      },
      "execution_count": 29,
      "outputs": [
        {
          "output_type": "stream",
          "name": "stdout",
          "text": [
            "mean-square error = 0.626975934375562\n",
            "mean-square error = 0.5728014676518232\n",
            "mean-square error = 0.5288615466457607\n",
            "mean-square error = 0.5063126844287225\n",
            "mean-square error = 0.3621487589349463\n"
          ]
        }
      ]
    },
    {
      "cell_type": "code",
      "source": [
        "iter = [2,5,7,10]\n",
        "mse = []\n",
        "for maxiter in iter:\n",
        "  # Create ALS model\n",
        "  als = ALS(\n",
        "      maxIter=maxiter,\n",
        "      rank = 10,\n",
        "      regParam=0.01,\n",
        "      userCol=\"item1\",\n",
        "      itemCol=\"item2\",\n",
        "      ratingCol=\"target\",\n",
        "      nonnegative = True,\n",
        "      implicitPrefs = False,\n",
        "      coldStartStrategy=\"drop\"\n",
        "  )\n",
        "  model = als.fit(training)\n",
        "\n",
        "  # Evaluate the model by computing the RMSE on the test data\n",
        "  predictions = model.transform(training)\n",
        "  evaluator = RegressionEvaluator(metricName=\"mse\", labelCol=\"target\",\n",
        "                                  predictionCol=\"prediction\")\n",
        "  mse = evaluator.evaluate(predictions)\n",
        "  print(\"mean-square error = \" + str(mse))"
      ],
      "metadata": {
        "id": "jrKuVjK-4Gt8",
        "colab": {
          "base_uri": "https://localhost:8080/"
        },
        "outputId": "43d2b4c0-492d-4933-e6ac-ed4c67d546bf"
      },
      "execution_count": 30,
      "outputs": [
        {
          "output_type": "stream",
          "name": "stdout",
          "text": [
            "mean-square error = 0.7459878002533074\n",
            "mean-square error = 0.5616903950679217\n",
            "mean-square error = 0.5406751657221828\n",
            "mean-square error = 0.5250503372171159\n"
          ]
        }
      ]
    },
    {
      "cell_type": "code",
      "source": [
        "amounts = [2000,5000,10000,20000,50000,100000]\n",
        "mse = []\n",
        "for amount in amounts:\n",
        "  # Create ALS model\n",
        "  als = ALS(\n",
        "      maxIter=20,\n",
        "      rank = 10,\n",
        "      regParam=0.01,\n",
        "      userCol=\"item1\",\n",
        "      itemCol=\"item2\",\n",
        "      ratingCol=\"target\",\n",
        "      nonnegative = True,\n",
        "      implicitPrefs = False,\n",
        "      coldStartStrategy=\"drop\"\n",
        "  )\n",
        "  model = als.fit(training.limit(amount))\n",
        "\n",
        "  # Evaluate the model by computing the RMSE on the test data\n",
        "  predictions = model.transform(training)\n",
        "  evaluator = RegressionEvaluator(metricName=\"mse\", labelCol=\"target\",\n",
        "                                  predictionCol=\"prediction\")\n",
        "  mse = evaluator.evaluate(predictions)\n",
        "  print(\"mean-square error = \" + str(mse))"
      ],
      "metadata": {
        "id": "emz4B6XO4N9g",
        "colab": {
          "base_uri": "https://localhost:8080/"
        },
        "outputId": "e3d5b238-f09e-4999-c9d5-17e041da29a5"
      },
      "execution_count": 36,
      "outputs": [
        {
          "output_type": "stream",
          "name": "stdout",
          "text": [
            "mean-square error = 2.6380702020063582\n",
            "mean-square error = 2.0266502369594663\n",
            "mean-square error = 1.571747447807223\n",
            "mean-square error = 1.103903673787555\n",
            "mean-square error = 0.7494254160255109\n",
            "mean-square error = 0.5063126844286863\n"
          ]
        }
      ]
    },
    {
      "cell_type": "code",
      "source": [],
      "metadata": {
        "id": "m9IJZxjm71W_"
      },
      "execution_count": null,
      "outputs": []
    },
    {
      "cell_type": "code",
      "source": [],
      "metadata": {
        "id": "KMVkDX_n72ml"
      },
      "execution_count": null,
      "outputs": []
    }
  ]
}